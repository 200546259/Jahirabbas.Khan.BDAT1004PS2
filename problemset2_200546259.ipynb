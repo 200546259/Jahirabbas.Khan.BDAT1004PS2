{
 "cells": [
  {
   "cell_type": "markdown",
   "metadata": {},
   "source": [
    "### Question 1\n",
    "Consider the following Python module:\n",
    "```python\n",
    "a = 0\n",
    "\n",
    "def b():\n",
    "    global a\n",
    "    a = c(a)\n",
    "\n",
    "def c(a):\n",
    "    return a + 2\n",
    " \n",
    "After importing the module into the interpreter, you execute: \n",
    " \n",
    ">>> b() \n",
    ">>> b() \n",
    ">>> b() \n",
    ">>>  a \n",
    "?\n",
    "\n",
    "What value is displayed when the last expression (a) is evaluated? Explain your answer by indicating what happens in every executed statement. "
   ]
  },
  {
   "cell_type": "code",
   "execution_count": 1,
   "metadata": {},
   "outputs": [
    {
     "name": "stdout",
     "output_type": "stream",
     "text": [
      "The value of 'a' is: 6\n"
     ]
    }
   ],
   "source": [
    "a = 0\n",
    "\n",
    "def b():\n",
    "    global a\n",
    "    a = c(a)\n",
    "\n",
    "def c(a):\n",
    "    return a + 2\n",
    "\n",
    "# press b three time in pyhton terminal\n",
    "# num_iterations = int(input(\"Enter the number of times to run function b(): \"))\n",
    "for _ in range(3):\n",
    "    b()\n",
    "\n",
    "# Display the final value of 'a'\n",
    "print(\"The value of 'a' is:\", a)"
   ]
  },
  {
   "cell_type": "markdown",
   "metadata": {},
   "source": [
    "Whole code contains a variable a initialized to 0 and a,b,c function().\n",
    "\n",
    "Lets call the function b() three times:\n",
    "\n",
    "1. The first time it call b(), it makes a global and assigns the result of c(a) to a. So, 'a' becomes c(0), which is 0 + 2, resulting in a being set to 2.\n",
    "\n",
    "2. The second time it call b(), it again assigns the result of c(a) to a. a is now 2, and c(2) is 2 + 2, so a becomes 4.\n",
    "\n",
    "3. The third time it call b(), it assigns c(a) to 'a'. 'a' is now 4, and c(4) is 4 + 2, so a becomes 6.\n",
    "\n",
    "After executing these three calls to b(), it get the value a is 6."
   ]
  },
  {
   "cell_type": "code",
   "execution_count": null,
   "metadata": {},
   "outputs": [],
   "source": []
  },
  {
   "cell_type": "markdown",
   "metadata": {},
   "source": [
    "### Question 2 \n",
    "Function fileLength(), given to you, takes the name of a file as input and returns the length of the file: \n",
    " \n",
    "\n",
    "```python\n",
    ">>> fileLength('midterm.py') \n",
    "284\n",
    ">>> fileLength('idterm.py')\n",
    "Traceback (most recent call last):\n",
    "  File \"<pyshell#34>\", line 1, in <module>\n",
    "    fileLength('idterm.py')\n",
    "  File \"/Users/me/midterm.py\", line 3, in fileLength\n",
    "    infile = open(filename)\n",
    "FileNotFoundError: [Errno 2] No such file or directory: 'idterm.py'\n",
    "\n",
    " \n",
    "As shown above, if the file cannot be found by the interpreter or if it cannot be read as a text file, an exception will be raised. Modify function fileLength() so that a friendly message is printed instead: \n",
    " \n",
    "```python\n",
    ">>> fileLength('midterm.py')\n",
    "358\n",
    ">>> fileLength('idterm.py')\n",
    "File idterm.py not found."
   ]
  },
  {
   "cell_type": "code",
   "execution_count": 2,
   "metadata": {},
   "outputs": [
    {
     "name": "stdout",
     "output_type": "stream",
     "text": [
      "File midterm.py not found.\n",
      "File idterm.py not found.\n"
     ]
    }
   ],
   "source": [
    "def fileLength(filename):\n",
    "    try:\n",
    "        infile = open(filename, 'r')\n",
    "        content = infile.read()\n",
    "        infile.close()\n",
    "        length = len(content)\n",
    "        return length\n",
    "    except FileNotFoundError:\n",
    "        return f\"File {filename} not found.\"\n",
    "\n",
    "# Print if file exists otherswise print exception that file noy found:\n",
    "result = fileLength('midterm.py')\n",
    "print(result)\n",
    "\n",
    "result = fileLength('idterm.py')\n",
    "print(result)"
   ]
  },
  {
   "cell_type": "code",
   "execution_count": null,
   "metadata": {},
   "outputs": [],
   "source": []
  },
  {
   "cell_type": "markdown",
   "metadata": {},
   "source": [
    "### Question 3 \n",
    "Write a class named Marsupial that can be used as shown below: \n",
    " \n",
    "```python\n",
    ">>> m = Marsupial()\n",
    ">>> m.put_in_pouch('doll')\n",
    ">>> m.put_in_pouch('firetruck')\n",
    ">>> m.put_in_pouch('kitten')\n",
    ">>> m.pouch_contents()\n",
    "['doll', 'firetruck', 'kitten']\n",
    "\n",
    "\n",
    "Now write a class named Kangaroo as a subclass of Marsupial that inherits all the attributes of Marsupial and also:\n",
    "\n",
    "1. extends the Marsupial  __init__ constructor to take, as input, the coordinates x and y of the Kangaroo object, \n",
    "2. supports method jump that takes number values dx and dy as input and moves the kangaroo by dx units along the x-axis and by dy unitalong    the y- axis, and \n",
    "3. overloads the __str__ operator so it behaves as shown below. \n",
    " \n",
    "```python\n",
    ">>> k = Kangaroo(0, 0)\n",
    ">>> print(k)\n",
    "I am a Kangaroo located at coordinates (0, 0)\n",
    ">>> k.put_in_pouch('doll')\n",
    ">>> k.put_in_pouch('firetruck')\n",
    ">>> k.put_in_pouch('kitten')\n",
    ">>> k.pouch_contents()\n",
    "['doll', 'firetruck', 'kitten']\n",
    ">>> k.jump(1, 0)\n",
    ">>> k.jump(1, 0)\n",
    ">>> k.jump(1, 0)\n",
    ">>> print(k)\n",
    "I am a Kangaroo located at coordinates (3, 0)"
   ]
  },
  {
   "cell_type": "code",
   "execution_count": 3,
   "metadata": {},
   "outputs": [
    {
     "name": "stdout",
     "output_type": "stream",
     "text": [
      "Marsupial's pouch contents: ['doll', 'firetruck', 'kitten']\n",
      "I am a Kangaroo located at coordinates (0, 0)\n",
      "Kangaroo's pouch contents: ['doll', 'firetruck', 'kitten']\n",
      "I am a Kangaroo located at coordinates (3, 0)\n"
     ]
    }
   ],
   "source": [
    "# class Marsupial\n",
    "class Marsupial:\n",
    "    def __init__(self):\n",
    "        self.pouch = []  # Initialize an empty pouch\n",
    "\n",
    "    def put_in_pouch(self, item):\n",
    "        self.pouch.append(item)  # Add an item to the pouch\n",
    "\n",
    "    def pouch_contents(self):\n",
    "        return self.pouch  # Return the contents of the pouch\n",
    "\n",
    "# class called Kangaroo which inherits from Marsupial\n",
    "class Kangaroo(Marsupial):\n",
    "    def __init__(self, x, y):\n",
    "        super().__init__()  # Initialize the Marsupial part of Kangaroo\n",
    "        self.x = x  # Initialize Kangaroo's x-coordinate\n",
    "        self.y = y  # Initialize Kangaroo's y-coordinate\n",
    "\n",
    "    def jump(self, dx, dy):\n",
    "        self.x += dx  # Move Kangaroo's x-coordinate by dx\n",
    "        self.y += dy  # Move Kangaroo's y-coordinate by dy\n",
    "\n",
    "    def __str__(self):\n",
    "        return f\"I am a Kangaroo located at coordinates ({self.x}, {self.y})\"\n",
    "\n",
    "\n",
    "# Create a Marsupial, put items in its pouch, and print the contents\n",
    "m = Marsupial()\n",
    "m.put_in_pouch('doll')\n",
    "m.put_in_pouch('firetruck')\n",
    "m.put_in_pouch('kitten')\n",
    "print(f\"Marsupial's pouch contents: {m.pouch_contents()}\")\n",
    "\n",
    "# Create a Kangaroo at coordinates (0, 0), put items in its pouch, jump, and print its location\n",
    "k = Kangaroo(0, 0)\n",
    "print(k)\n",
    "k.put_in_pouch('doll')\n",
    "k.put_in_pouch('firetruck')\n",
    "k.put_in_pouch('kitten')\n",
    "print(f\"Kangaroo's pouch contents: {k.pouch_contents()}\")\n",
    "k.jump(1, 0)\n",
    "k.jump(1, 0)\n",
    "k.jump(1, 0)\n",
    "print(k)"
   ]
  },
  {
   "cell_type": "code",
   "execution_count": null,
   "metadata": {},
   "outputs": [],
   "source": []
  },
  {
   "cell_type": "markdown",
   "metadata": {},
   "source": [
    "### Question 4 \n",
    "Write function collatz() that takes a positive integer x as input and prints the \n",
    "Collatz sequence starting at x. A Collatz sequence is obtained by repeatedly applying \n",
    "this rule to the previous number x in the sequence: \n",
    " \n",
    "x = {  𝑥/2 𝑖𝑓 𝑥 𝑖𝑠 𝑒𝑣𝑒𝑛 3𝑥 \n",
    "+ 1 𝑖𝑓 𝑥 𝑖𝑠 𝑜𝑑𝑑 \n",
    " \n",
    "Your function should stop when the sequence gets to number 1. Your \n",
    "implementation must be recursive, without any loops. \n",
    "\n",
    "```python\n",
    ">>> collatz(1)\n",
    "1\n",
    ">>> collatz(10)\n",
    "10\n",
    "5\n",
    "16\n",
    "8\n",
    "4\n",
    "2\n"
   ]
  },
  {
   "cell_type": "code",
   "execution_count": 4,
   "metadata": {},
   "outputs": [
    {
     "name": "stdout",
     "output_type": "stream",
     "text": [
      "1\n",
      "---------\n",
      "10\n",
      "5\n",
      "16\n",
      "8\n",
      "4\n",
      "2\n",
      "1\n"
     ]
    }
   ],
   "source": [
    "# collatz that takes an integer 'x' as input\n",
    "def collatz(x):\n",
    "    print(x)  # Print the current value of 'x'\n",
    "    \n",
    "    # Check if 'x' is equal to 1, and if so, stop the recursion\n",
    "    if x == 1:\n",
    "        return\n",
    "    \n",
    "    # Check if 'x' is even\n",
    "    if x % 2 == 0:\n",
    "        # If 'x' is even, call the collatz function with 'x' divided by 2\n",
    "        collatz(x // 2)\n",
    "    else:\n",
    "        # If 'x' is odd, call the collatz function with 3 times 'x' plus 1\n",
    "        collatz(3 * x + 1)\n",
    "\n",
    "collatz(1)  # Start the collatz sequence with '1'\n",
    "\n",
    "print(\"---------\") \n",
    "\n",
    "collatz(10)"
   ]
  },
  {
   "cell_type": "code",
   "execution_count": null,
   "metadata": {},
   "outputs": [],
   "source": []
  },
  {
   "cell_type": "markdown",
   "metadata": {},
   "source": [
    "### Question 5 \n",
    "Write a recursive method binary() that takes a non-negative \n",
    "integer n and prints the binary representation of integer n. \n",
    " \n",
    "```python\n",
    ">>> binary(0)\n",
    "0\n",
    ">>> binary(1)\n",
    "1\n",
    ">>> binary(3)\n",
    "11\n",
    ">>> binary(9)\n",
    "1001"
   ]
  },
  {
   "cell_type": "code",
   "execution_count": 5,
   "metadata": {},
   "outputs": [
    {
     "name": "stdout",
     "output_type": "stream",
     "text": [
      "0\n",
      "1\n",
      "1\n",
      "11\n",
      "001"
     ]
    }
   ],
   "source": [
    "def binary(n):\n",
    "    if n == 0:\n",
    "        print(\"0\")\n",
    "    elif n == 1:\n",
    "        print(\"1\")\n",
    "    else:\n",
    "        binary(n // 2)\n",
    "        print(n % 2, end=\"\")\n",
    "\n",
    "# Print\n",
    "binary(0)\n",
    "binary(1)\n",
    "binary(3)\n",
    "binary(9)"
   ]
  },
  {
   "cell_type": "code",
   "execution_count": null,
   "metadata": {},
   "outputs": [],
   "source": []
  },
  {
   "cell_type": "markdown",
   "metadata": {},
   "source": [
    "### Question 6 \n",
    "Implement a class named HeadingParser that can be used to parse an HTML document, and retrieve and print all the headings in the document. You should implement your class as a subclass of HTMLParser, defined in Standard Library module html.parser. When fed a string containing HTML code, your class should print the headings, one per line and in the order in which they appear in the document. Each heading should be indented as follows: an h1 heading should have indentation 0, and h2 heading should have indentation 1, etc. Test your implementation using w3c.html. "
   ]
  },
  {
   "cell_type": "markdown",
   "metadata": {},
   "source": [
    "```python\n",
    "infile = open('w3c.html')\n",
    "content = infile.read()\n",
    "infile.close()\n",
    "\n",
    "hp = HeadingParser()\n",
    "hp.feed(content)\n",
    "\n",
    "W3C  Mission \n",
    "Principles "
   ]
  },
  {
   "cell_type": "markdown",
   "metadata": {},
   "source": [
    "#### I use in this Stackoverflow Reference: https://stackoverflow.com/questions/36969621/html-parser-handle-starttag"
   ]
  },
  {
   "cell_type": "code",
   "execution_count": 6,
   "metadata": {},
   "outputs": [
    {
     "name": "stdout",
     "output_type": "stream",
     "text": [
      "W3C Mission\n",
      "  Principles\n"
     ]
    }
   ],
   "source": [
    "from html.parser import HTMLParser\n",
    "\n",
    "# HeadingParser that inherits from HTMLParser\n",
    "class HeadingParser(HTMLParser):\n",
    "    def __init__(self):\n",
    "        super().__init__()  # Initializing the HTMLParser\n",
    "        self.headings = []  # Initializing a list to store headings\n",
    "        self.current_heading = \"\"  # Initialize a variable to store the current heading text\n",
    "        self.in_heading = False  # Initialize a flag to track if we're inside a heading\n",
    "        self.indentation = 0  # Initialize the indentation level\n",
    "\n",
    "    # Handle HTML elements\n",
    "    def handle_starttag(self, tag, attrs):\n",
    "        if tag.startswith('h') and tag[1:].isdigit():\n",
    "            # If the tag is an 'h1', 'h2', etc., consider it a heading\n",
    "            self.in_heading = True\n",
    "            self.indentation = int(tag[1:]) - 1  # Calculate the indentation level\n",
    "            self.current_heading = \"\"  # Initialize the current heading text\n",
    "\n",
    "    # Handle the data (text) within HTML elements\n",
    "    def handle_data(self, data):\n",
    "        if self.in_heading:\n",
    "            # If we're inside a heading, append the data to the current_heading\n",
    "            self.current_heading += data.strip()\n",
    "\n",
    "    # Handle the end tag of HTML elements\n",
    "    def handle_endtag(self, tag):\n",
    "        if self.in_heading:\n",
    "            # If we were inside a heading\n",
    "            self.in_heading = False  # Reset the flag\n",
    "            heading_text = self.current_heading.strip()\n",
    "            if heading_text:\n",
    "                # If there's non-empty heading text, add it to the headings list with its indentation\n",
    "                self.headings.append((self.indentation, heading_text))\n",
    "            self.current_heading = \"\"  # Reset the current heading text\n",
    "\n",
    "    # Print the headings with proper indentation\n",
    "    def print_headings(self):\n",
    "        for indentation, heading in self.headings:\n",
    "            # Print each heading with the appropriate level of indentation\n",
    "            print(' ' * (indentation * 2) + heading)\n",
    "\n",
    "# Main Class\n",
    "if __name__ == \"__main__\":\n",
    "    # Reading the HTML content from 'w3c.html'\n",
    "    infile = open('w3c.html', 'r', encoding='utf-8')\n",
    "    content = infile.read()\n",
    "    infile.close()\n",
    "\n",
    "    # print the headings\n",
    "    hp = HeadingParser()\n",
    "    hp.feed(content)\n",
    "    hp.print_headings()"
   ]
  },
  {
   "cell_type": "code",
   "execution_count": null,
   "metadata": {},
   "outputs": [],
   "source": []
  },
  {
   "cell_type": "markdown",
   "metadata": {},
   "source": [
    "### Question 7 \n",
    "Implement recursive function webdir() that takes as input: a URL (as a string) and non-negative integers depth and indent. Your function should visit every web page reachable from the starting URL web page in depth clicks or less, and print each web page's URL. As shown below, indentation, specified by indent,  should be used to indicate the depth of a URL"
   ]
  },
  {
   "cell_type": "markdown",
   "metadata": {},
   "source": [
    "- [http://web.simmons.edu/~grovesd/comm244/notes/week3/html-test-page.html](http://web.simmons.edu/~grovesd/comm244/notes/week3/html-test-page.html)\n",
    "    - [http://web.simmons.edu/~grovesd/comm244/notes/week3/css-linking#internal](http://web.simmons.edu/~grovesd/comm244/notes/week3/css-linking#internal)\n",
    "    - [http://web.simmons.edu/~grovesd/comm244](http://web.simmons.edu/~grovesd/comm244)\n",
    "    - [http://web.simmons.edu/~grovesd/comm244/week3](http://web.simmons.edu/~grovesd/comm244/week3)\n",
    "\n",
    "\n"
   ]
  },
  {
   "cell_type": "markdown",
   "metadata": {},
   "source": [
    "#### I use in this Stackoverflow Reference: https://stackoverflow.com/questions/69149794/what-does-requests-geturl-address-raise-for-status-perform-in-requests-pac"
   ]
  },
  {
   "cell_type": "code",
   "execution_count": 7,
   "metadata": {},
   "outputs": [
    {
     "name": "stdout",
     "output_type": "stream",
     "text": [
      "http://web.simmons.edu/~grovesd/comm244/notes/week3/html-test-page.html\n",
      "    http://web.simmons.edu/~grovesd/comm244/notes/week3/css-linking#internal\n",
      "    http://web.simmons.edu/~grovesd/comm244\n",
      "    http://web.simmons.edu/~grovesd/comm244/week3\n"
     ]
    }
   ],
   "source": [
    "import requests\n",
    "from bs4 import BeautifulSoup\n",
    "\n",
    "def webdir(url, depth, indent):\n",
    "    # Base case: If depth is 0, return without visiting the URL\n",
    "    if depth == 0:\n",
    "        return\n",
    "    \n",
    "    try:\n",
    "        # Send a GET request to the URL\n",
    "        response = requests.get(url)\n",
    "        response.raise_for_status()  # Raise an exception for HTTP errors\n",
    "        soup = BeautifulSoup(response.text, 'html.parser')\n",
    "        \n",
    "        # Print the URL with the appropriate indentation\n",
    "        print(\" \" * indent + url)\n",
    "        \n",
    "        # Find all the links on the current web page\n",
    "        links = soup.find_all('a', href=True)\n",
    "        \n",
    "        # Recursively visit the linked pages with reduced depth and increased indentation\n",
    "        for link in links:\n",
    "            new_url = link['href']\n",
    "            if not new_url.startswith('http'):\n",
    "                # Handle relative URLs by joining them with the base URL\n",
    "                new_url = '/'.join(url.split('/')[:-1]) + '/' + new_url\n",
    "            webdir(new_url, depth - 1, indent + 4)\n",
    "    \n",
    "    except requests.exceptions.RequestException as e:\n",
    "        print(\"Error:\", e)\n",
    "    except Exception as e:\n",
    "        print(\"An error occurred:\", e)\n",
    "\n",
    "#  URL Link:\n",
    "webdir('http://web.simmons.edu/~grovesd/comm244/notes/week3/html-test-page.html', 2, 0)\n"
   ]
  },
  {
   "cell_type": "code",
   "execution_count": null,
   "metadata": {},
   "outputs": [],
   "source": []
  },
  {
   "cell_type": "markdown",
   "metadata": {},
   "source": [
    "### Question 8 \n",
    "Write SQL queries on the below database table that return: \n",
    "1. All the temperature data. \n",
    "2. All the cities, but without repetition. \n",
    "3. All the records for India. \n",
    "4. All the Fall records.\n",
    "5. The city, country, and season for which the average rainfall is between 200 \n",
    "and 400 millimeters. \n",
    "6. The city and country for which the average Fall temperature is above 20 \n",
    "degrees, in increasing temperature order. \n",
    "7. The total annual rainfall for Cairo. \n",
    "8. The total rainfall for each season. "
   ]
  },
  {
   "cell_type": "markdown",
   "metadata": {},
   "source": [
    "| City   | Country          | Season | Temperature (C) | Rainfall (mm) |\n",
    "|--------|------------------|--------|-----------------|---------------|\n",
    "| Mumbai | India            | Winter | 24.8            | 5.9           |\n",
    "| Mumbai | India            | Spring | 28.4            | 16.2          |\n",
    "| Mumbai | India            | Summer | 27.9            | 1549.4        |\n",
    "| Mumbai | India            | Fall   | 27.6            | 346.0         |\n",
    "| London | United Kingdom   | Winter | 4.2             | 207.7         |\n",
    "| London | United Kingdom   | Spring | 8.3             | 169.6         |\n",
    "| London | United Kingdom   | Summer | 15.7            | 157.0         |\n",
    "| London | United Kingdom   | Fall   | 10.4            | 218.5         |\n",
    "| Cairo  | Egypt            | Winter | 13.6            | 16.5          |\n",
    "| Cairo  | Egypt            | Spring | 20.7            | 6.5           |\n",
    "| Cairo  | Egypt            | Summer | 27.7            | 0.1           |\n",
    "| Cairo  | Egypt            | Fall   | 22.2            | 4.5           |\n"
   ]
  },
  {
   "cell_type": "code",
   "execution_count": 8,
   "metadata": {},
   "outputs": [
    {
     "data": {
      "text/plain": [
       "<sqlite3.Cursor at 0x2b699a3d9c0>"
      ]
     },
     "execution_count": 8,
     "metadata": {},
     "output_type": "execute_result"
    }
   ],
   "source": [
    "import sqlite3\n",
    "\n",
    "# Create a new SQLite database or connect to an existing one\n",
    "conn = sqlite3.connect('weather_data.db')\n",
    "\n",
    "# Create a cursor object to interact with the database\n",
    "cursor = conn.cursor()\n",
    "\n",
    "# Create a table\n",
    "cursor.execute('''\n",
    "    CREATE TABLE Weather (\n",
    "        City TEXT,\n",
    "        Country TEXT,\n",
    "        Season TEXT,\n",
    "        Temperature REAL,\n",
    "        Rainfall REAL\n",
    "    )\n",
    "''')\n",
    "\n",
    "\n",
    "# Insert data\n",
    "data = [\n",
    "    ('Mumbai', 'India', 'Winter', 24.8, 5.9),\n",
    "    ('Mumbai', 'India', 'Spring', 28.4, 16.2),\n",
    "    ('Mumbai', 'India', 'Summer', 27.9, 1549.4),\n",
    "    ('Mumbai', 'India', 'Fall', 27.6, 346.0),\n",
    "    ('London', 'United Kingdom', 'Winter', 4.2, 207.7),\n",
    "    ('London', 'United Kingdom', 'Spring', 8.3, 169.6),\n",
    "    ('London', 'United Kingdom', 'Summer', 15.7, 157.0),\n",
    "    ('London', 'United Kingdom', 'Fall', 10.4, 218.5),\n",
    "    ('Cairo', 'Egypt', 'Winter', 13.6, 16.5),\n",
    "    ('Cairo', 'Egypt', 'Spring', 20.7, 6.5),\n",
    "    ('Cairo', 'Egypt', 'Summer', 27.7, 0.1),\n",
    "    ('Cairo', 'Egypt', 'Fall', 22.2, 4.5)\n",
    "]\n",
    "\n",
    "cursor.executemany('INSERT INTO Weather VALUES (?,?,?,?,?)', data)"
   ]
  },
  {
   "cell_type": "code",
   "execution_count": 9,
   "metadata": {},
   "outputs": [
    {
     "data": {
      "text/plain": [
       "[('Mumbai', 'India', 'Winter', 24.8, 5.9),\n",
       " ('Mumbai', 'India', 'Spring', 28.4, 16.2),\n",
       " ('Mumbai', 'India', 'Summer', 27.9, 1549.4),\n",
       " ('Mumbai', 'India', 'Fall', 27.6, 346.0),\n",
       " ('London', 'United Kingdom', 'Winter', 4.2, 207.7),\n",
       " ('London', 'United Kingdom', 'Spring', 8.3, 169.6),\n",
       " ('London', 'United Kingdom', 'Summer', 15.7, 157.0),\n",
       " ('London', 'United Kingdom', 'Fall', 10.4, 218.5),\n",
       " ('Cairo', 'Egypt', 'Winter', 13.6, 16.5),\n",
       " ('Cairo', 'Egypt', 'Spring', 20.7, 6.5),\n",
       " ('Cairo', 'Egypt', 'Summer', 27.7, 0.1),\n",
       " ('Cairo', 'Egypt', 'Fall', 22.2, 4.5)]"
      ]
     },
     "execution_count": 9,
     "metadata": {},
     "output_type": "execute_result"
    }
   ],
   "source": [
    "data"
   ]
  },
  {
   "cell_type": "code",
   "execution_count": 29,
   "metadata": {},
   "outputs": [
    {
     "name": "stdout",
     "output_type": "stream",
     "text": [
      "Temperature Data:\n",
      "24.8\n",
      "28.4\n",
      "27.9\n",
      "27.6\n",
      "4.2\n",
      "8.3\n",
      "15.7\n",
      "10.4\n",
      "13.6\n",
      "20.7\n",
      "27.7\n",
      "22.2\n"
     ]
    }
   ],
   "source": [
    "# Query 1: All the temperature data\n",
    "cursor.execute('SELECT Temperature FROM Weather')\n",
    "temperature_data = cursor.fetchall()\n",
    "print(\"Temperature Data:\")\n",
    "for row in temperature_data:\n",
    "    print(row[0])"
   ]
  },
  {
   "cell_type": "code",
   "execution_count": 28,
   "metadata": {},
   "outputs": [
    {
     "name": "stdout",
     "output_type": "stream",
     "text": [
      "Cities without repetition:\n",
      "Mumbai\n",
      "London\n",
      "Cairo\n"
     ]
    }
   ],
   "source": [
    "# Query 2: All the cities, but without repetition\n",
    "cursor.execute('SELECT DISTINCT City FROM Weather')\n",
    "cities = cursor.fetchall()\n",
    "print(\"Cities without repetition:\")\n",
    "for row in cities:\n",
    "    print(row[0])"
   ]
  },
  {
   "cell_type": "code",
   "execution_count": 31,
   "metadata": {},
   "outputs": [
    {
     "name": "stdout",
     "output_type": "stream",
     "text": [
      "Records for India:\n",
      "('Mumbai', 'India', 'Winter', 24.8, 5.9)\n",
      "('Mumbai', 'India', 'Spring', 28.4, 16.2)\n",
      "('Mumbai', 'India', 'Summer', 27.9, 1549.4)\n",
      "('Mumbai', 'India', 'Fall', 27.6, 346.0)\n"
     ]
    }
   ],
   "source": [
    "# Query 3: All the records for India\n",
    "cursor.execute('SELECT * FROM Weather WHERE Country = \"India\"')\n",
    "india_records = cursor.fetchall()\n",
    "print(\"Records for India:\")\n",
    "for row in india_records:\n",
    "    print(row)"
   ]
  },
  {
   "cell_type": "code",
   "execution_count": 32,
   "metadata": {},
   "outputs": [
    {
     "name": "stdout",
     "output_type": "stream",
     "text": [
      "Fall Records:\n",
      "('Mumbai', 'India', 'Fall', 27.6, 346.0)\n",
      "('London', 'United Kingdom', 'Fall', 10.4, 218.5)\n",
      "('Cairo', 'Egypt', 'Fall', 22.2, 4.5)\n"
     ]
    }
   ],
   "source": [
    "# Query 4: All the Fall records\n",
    "cursor.execute('SELECT * FROM Weather WHERE Season = \"Fall\"')\n",
    "fall_records = cursor.fetchall()\n",
    "print(\"Fall Records:\")\n",
    "for row in fall_records:\n",
    "    print(row)"
   ]
  },
  {
   "cell_type": "code",
   "execution_count": 40,
   "metadata": {},
   "outputs": [
    {
     "name": "stdout",
     "output_type": "stream",
     "text": [
      "Cities with average rainfall between 200 and 400 millimeters:\n",
      "('London', 'United Kingdom', 'Fall')\n",
      "('London', 'United Kingdom', 'Winter')\n",
      "('Mumbai', 'India', 'Fall')\n"
     ]
    }
   ],
   "source": [
    "# Query 5: The city, country, and season for which the average rainfall is between 200 and 400 millimeters.\n",
    "cursor.execute('SELECT City, Country, Season FROM Weather GROUP BY City, Country, Season HAVING AVG(Rainfall) BETWEEN 200 AND 400')\n",
    "rainfall_data = cursor.fetchall()\n",
    "print(\"Cities with average rainfall between 200 and 400 millimeters:\")\n",
    "for row in rainfall_data:\n",
    "    print(row)\n"
   ]
  },
  {
   "cell_type": "code",
   "execution_count": 39,
   "metadata": {},
   "outputs": [
    {
     "name": "stdout",
     "output_type": "stream",
     "text": [
      "Cities and countries with average Fall temperature above 20 degrees (in increasing order):\n",
      "('Cairo', 'Egypt')\n",
      "('Mumbai', 'India')\n"
     ]
    }
   ],
   "source": [
    "# Query 6: The city and country for which the average Fall temperature is above 20 degrees, in increasing temperature order.\n",
    "cursor.execute('''\n",
    "    SELECT City, Country\n",
    "    FROM Weather\n",
    "    WHERE Season = 'Fall'\n",
    "    GROUP BY City, Country\n",
    "    HAVING AVG(Temperature) > 20\n",
    "    ORDER BY AVG(Temperature) ASC\n",
    "''')\n",
    "fall_temperature_data = cursor.fetchall()\n",
    "print(\"Cities and countries with average Fall temperature above 20 degrees (in increasing order):\")\n",
    "for row in fall_temperature_data:\n",
    "    print(row)"
   ]
  },
  {
   "cell_type": "code",
   "execution_count": 16,
   "metadata": {},
   "outputs": [
    {
     "name": "stdout",
     "output_type": "stream",
     "text": [
      "Total annual rainfall for Cairo: 27.6\n"
     ]
    }
   ],
   "source": [
    "# Query 7: The total annual rainfall for Cairo.\n",
    "cursor.execute('SELECT SUM(Rainfall) AS Total_Rainfall FROM Weather WHERE City = \"Cairo\"')\n",
    "cairo_annual_rainfall = cursor.fetchone()\n",
    "print(\"Total annual rainfall for Cairo:\", cairo_annual_rainfall[0])"
   ]
  },
  {
   "cell_type": "code",
   "execution_count": 17,
   "metadata": {},
   "outputs": [
    {
     "name": "stdout",
     "output_type": "stream",
     "text": [
      "Total rainfall for each season:\n",
      "Fall: 569.0\n",
      "Spring: 192.29999999999998\n",
      "Summer: 1706.5\n",
      "Winter: 230.1\n"
     ]
    }
   ],
   "source": [
    "# Query 8: The total rainfall for each season.\n",
    "cursor.execute('SELECT Season, SUM(Rainfall) AS Total_Rainfall FROM Weather GROUP BY Season')\n",
    "seasonal_rainfall = cursor.fetchall()\n",
    "print(\"Total rainfall for each season:\")\n",
    "for season in seasonal_rainfall:\n",
    "    print(f\"{season[0]}: {season[1]}\")\n"
   ]
  },
  {
   "cell_type": "code",
   "execution_count": null,
   "metadata": {},
   "outputs": [],
   "source": []
  },
  {
   "cell_type": "markdown",
   "metadata": {},
   "source": [
    "### Question 9 \n",
    "Suppose list words is defined as follows:\n",
    "\n",
    "    words  =  ['The',  'quick',  'brown',  'fox',  'jumps',  'over', 'the',  'lazy',  'dog']\n",
    "    \n",
    "Write list comprehension expressions that use list words and generate the following \n",
    "lists:"
   ]
  },
  {
   "cell_type": "markdown",
   "metadata": {},
   "source": [
    "| Description | List |\n",
    "|-------------|------|\n",
    "| a) Uppercase Words | ['THE', 'QUICK', 'BROWN', 'FOX', 'JUMPS', 'OVER', 'THE', 'LAZY', 'DOG'] |\n",
    "| b) Lowercase Words | ['the', 'quick', 'brown', 'fox', 'jumps', 'over', 'the', 'lazy', 'dog'] |\n",
    "| c) Word Lengths | [3, 5, 5, 3, 5, 4, 3, 4, 3] |\n",
    "| d) Word Information | [['THE', 'the', 3], ['QUICK', 'quick', 5], ['BROWN', 'brown', 5], ['FOX', 'fox', 3], ['JUMPS', 'jumps', 5], ['OVER', 'over', 4], ['THE', 'the', 3], ['LAZY', 'lazy', 4], ['DOG', 'dog', 3]] |\n",
    "| e) Words with 4 or More Characters | ['The', 'quick', 'brown', 'jumps', 'over', 'lazy'] |\n"
   ]
  },
  {
   "cell_type": "code",
   "execution_count": 18,
   "metadata": {},
   "outputs": [],
   "source": [
    "# Define the List of words\n",
    "words = ['The', 'quick', 'brown', 'fox', 'jumps', 'over', 'the', 'lazy', 'dog']"
   ]
  },
  {
   "cell_type": "code",
   "execution_count": 19,
   "metadata": {},
   "outputs": [
    {
     "name": "stdout",
     "output_type": "stream",
     "text": [
      "['THE', 'QUICK', 'BROWN', 'FOX', 'JUMPS', 'OVER', 'THE', 'LAZY', 'DOG']\n"
     ]
    }
   ],
   "source": [
    "# a) Uppercase Words\n",
    "uppercase_words = [word.upper() for word in words]\n",
    "print(uppercase_words)"
   ]
  },
  {
   "cell_type": "code",
   "execution_count": 20,
   "metadata": {},
   "outputs": [
    {
     "name": "stdout",
     "output_type": "stream",
     "text": [
      "['the', 'quick', 'brown', 'fox', 'jumps', 'over', 'the', 'lazy', 'dog']\n"
     ]
    }
   ],
   "source": [
    "# b) Lowercase Words\n",
    "lowercase_words = [word.lower() for word in words]\n",
    "print(lowercase_words)"
   ]
  },
  {
   "cell_type": "code",
   "execution_count": 21,
   "metadata": {},
   "outputs": [
    {
     "name": "stdout",
     "output_type": "stream",
     "text": [
      "[3, 5, 5, 3, 5, 4, 3, 4, 3]\n"
     ]
    }
   ],
   "source": [
    "# c) Words Lengths\n",
    "word_lengths = [len(word) for word in words]\n",
    "print(word_lengths)"
   ]
  },
  {
   "cell_type": "code",
   "execution_count": 22,
   "metadata": {},
   "outputs": [
    {
     "name": "stdout",
     "output_type": "stream",
     "text": [
      "[['THE', 'the', 3], ['QUICK', 'quick', 5], ['BROWN', 'brown', 5], ['FOX', 'fox', 3], ['JUMPS', 'jumps', 5], ['OVER', 'over', 4], ['THE', 'the', 3], ['LAZY', 'lazy', 4], ['DOG', 'dog', 3]]\n"
     ]
    }
   ],
   "source": [
    "# d) Word Information\n",
    "word_information = [[word.upper(), word.lower(), len(word)] for word in words]\n",
    "print(word_information)"
   ]
  },
  {
   "cell_type": "code",
   "execution_count": 23,
   "metadata": {},
   "outputs": [
    {
     "name": "stdout",
     "output_type": "stream",
     "text": [
      "['quick', 'brown', 'jumps', 'over', 'lazy']\n"
     ]
    }
   ],
   "source": [
    "# e) Words with 4 or More Characters\n",
    "words_4_or_more = [word for word in words if len(word) >= 4]\n",
    "print(words_4_or_more)"
   ]
  }
 ],
 "metadata": {
  "kernelspec": {
   "display_name": "Python 3",
   "language": "python",
   "name": "python3"
  },
  "language_info": {
   "codemirror_mode": {
    "name": "ipython",
    "version": 3
   },
   "file_extension": ".py",
   "mimetype": "text/x-python",
   "name": "python",
   "nbconvert_exporter": "python",
   "pygments_lexer": "ipython3",
   "version": "3.11.1"
  }
 },
 "nbformat": 4,
 "nbformat_minor": 2
}
